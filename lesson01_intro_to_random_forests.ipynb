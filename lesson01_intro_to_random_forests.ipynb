{
  "cells": [
    {
      "cell_type": "markdown",
      "metadata": {
        "id": "opgp9VlqCVF4"
      },
      "source": [
        "# Lesson 1 - Introduction to random forests\n",
        "\n",
        "> A first look at training Random Forest models to identify supersymmetric particles in proton-proton collisions."
      ]
    },
    {
      "cell_type": "markdown",
      "metadata": {
        "id": "sU-dWG3NCVGB"
      },
      "source": [
        "[![Binder](https://mybinder.org/badge_logo.svg)](https://mybinder.org/v2/gh/lewtun/hepml/master?urlpath=lab/tree/notebooks%2Flesson01_intro-to-random-forests.ipynb) [![Open In Colab](https://colab.research.google.com/assets/colab-badge.svg)](https://colab.research.google.com/github/lewtun/hepml/blob/master/notebooks/lesson01_intro-to-random-forests.ipynb)"
      ]
    },
    {
      "cell_type": "markdown",
      "metadata": {
        "id": "2jOFXUrHCVGD"
      },
      "source": [
        "## Learning objectives"
      ]
    },
    {
      "cell_type": "markdown",
      "metadata": {
        "id": "YtPBChMJCVGE"
      },
      "source": [
        "* Gain an introduction to the pandas library\n",
        "* Understand the main steps involved in training a machine learning model\n",
        "* Gain an introduction to scikit-learn's API\n",
        "* Understand the need to generate a training and validation set"
      ]
    },
    {
      "cell_type": "markdown",
      "metadata": {
        "id": "LFyqaiOrCVGF"
      },
      "source": [
        "## References"
      ]
    },
    {
      "cell_type": "markdown",
      "metadata": {
        "id": "oeB_47swCVGG"
      },
      "source": [
        "* Chapters 2 & 3 of _Hands-On Machine Learning with Scikit-Learn and TensorFlow_ by Aurèlien Geron\n",
        "* Section VII of [_A high-bias, low-variance introduction to Machine Learning for physicists_](https://arxiv.org/abs/1803.08823) by P. Mehta et al.\n",
        "* [Searching for exotic particles in high-energy physics with deep learning](https://www.nature.com/articles/ncomms5308) by Baldi et al."
      ]
    },
    {
      "cell_type": "markdown",
      "metadata": {
        "id": "qqH4idk2CVGH"
      },
      "source": [
        "## The data\n",
        "\n",
        "We will be analysing SUSY data from the [Searching for exotic particles in high-energy physics with deep learning](https://www.nature.com/articles/ncomms5308) article by Baldi et al. (2014). The dataset can be obtained from the [UCI Machine Learning repository](http://archive.ics.uci.edu/ml/datasets/SUSY#) and is described as follows:\n",
        "\n",
        "> The data has been produced using Monte Carlo simulations. The first 8 features are kinematic properties measured by the particle detectors in the accelerator. The last ten features are functions of the first 8 features; these are high-level features derived by physicists to help discriminate between the two classes. There is an interest in using deep learning methods to obviate the need for physicists to manually develop such features. Benchmark results using Bayesian Decision Trees from a standard physics package and 5-layer neural networks and the dropout algorithm are presented in the original paper. The last 500,000 examples are used as a test set.\n",
        "\n",
        "Framed as a supervised learning task, the goal is to train a model that can classify each event as either a SUSY signal or Standard Model background (see figure below).\n",
        "\n",
        "<div style=\"text-align: center\">\n",
        "<img src='https://github.com/lewtun/hepml/blob/master/notebooks/images/susy.png?raw=1' width='400'>\n",
        "   <p style=\"text-align: center;\"> <b>Figure reference:</b> https://www.nature.com/articles/ncomms5308 </p>\n",
        "</div>\n",
        "\n",
        "The dataset description also provides information on the features or kinematic variables associated with with each event:\n",
        "\n",
        "> The first column is the class label (1 for signal, 0 for background), followed by the 18 features (8 low-level features then 10 high-level features): lepton 1 pT, lepton 1 eta, lepton 1 phi, lepton 2 pT, lepton 2 eta, lepton 2 phi, missing energy magnitude, missing energy phi, MET_rel, axial MET, M_R, M_TR_2, R, MT2, S_R, M_Delta_R, dPhi_r_b, cos(theta_r1)."
      ]
    },
    {
      "cell_type": "markdown",
      "metadata": {
        "id": "xMUicbUlCVGK"
      },
      "source": [
        "## Import libraries"
      ]
    },
    {
      "cell_type": "code",
      "execution_count": null,
      "metadata": {
        "id": "9mJoC2pZCVGM"
      },
      "outputs": [],
      "source": [
        "# reload modules before executing user code\n",
        "%load_ext autoreload\n",
        "# reload all modules every time before executing Python code\n",
        "%autoreload 2\n",
        "# render plots in notebook\n",
        "%matplotlib inline"
      ]
    },
    {
      "cell_type": "code",
      "execution_count": null,
      "metadata": {
        "id": "o9m-L7kXCVGR"
      },
      "outputs": [],
      "source": [
        "# uncomment this if running locally or on Google Colab\n",
        "# !pip install --upgrade hepml"
      ]
    },
    {
      "cell_type": "code",
      "execution_count": null,
      "metadata": {
        "id": "1OEYG1T4CVGS"
      },
      "outputs": [],
      "source": [
        "# data wrangling\n",
        "import pandas as pd\n",
        "import numpy as np\n",
        "from pathlib import Path\n",
        "from hepml.core import display_large, download_dataset\n",
        "\n",
        "# data viz\n",
        "import matplotlib.pyplot as plt\n",
        "import seaborn as sns\n",
        "from sklearn.metrics import plot_roc_curve, plot_confusion_matrix\n",
        "\n",
        "sns.set(color_codes=True)\n",
        "sns.set_palette(sns.color_palette(\"muted\"))\n",
        "\n",
        "# ml magic\n",
        "from sklearn.model_selection import train_test_split\n",
        "from sklearn.metrics import accuracy_score, roc_auc_score\n",
        "from sklearn.ensemble import RandomForestClassifier"
      ]
    },
    {
      "cell_type": "markdown",
      "metadata": {
        "id": "iv97iwniCVGT"
      },
      "source": [
        "## Load the data"
      ]
    },
    {
      "cell_type": "markdown",
      "metadata": {
        "id": "X3oqtuUgCVGU"
      },
      "source": [
        "For simplicity, we have stored a copy of the data on Google Drive which can be fetched by running the following function:"
      ]
    },
    {
      "cell_type": "code",
      "execution_count": null,
      "metadata": {
        "id": "hqXKuS7zCVGU",
        "outputId": "eee216b8-acb1-4cb7-d444-fd80d3e0a194"
      },
      "outputs": [
        {
          "name": "stdout",
          "output_type": "stream",
          "text": [
            "Download of susy.csv.gz dataset complete.\n"
          ]
        }
      ],
      "source": [
        "# this is a big file and can take a while to download\n",
        "download_dataset(\"susy.csv.gz\")"
      ]
    },
    {
      "cell_type": "markdown",
      "metadata": {
        "id": "FFlKN78nCVGX"
      },
      "source": [
        "To load our dataset we need to tell pandas where to look for it. First, lets have a look at what we have in the `data/` directory:"
      ]
    },
    {
      "cell_type": "code",
      "execution_count": null,
      "metadata": {
        "id": "0wKssXebCVGX",
        "outputId": "803807b9-fc5f-4d94-feb4-28bf498dc498"
      },
      "outputs": [
        {
          "name": "stdout",
          "output_type": "stream",
          "text": [
            "susy.csv.gz\n"
          ]
        }
      ],
      "source": [
        "DATA = Path(\"../data\")\n",
        "!ls {DATA}"
      ]
    },
    {
      "cell_type": "markdown",
      "metadata": {
        "id": "7drGKKdRCVGY"
      },
      "source": [
        "With pathlib it is a simple matter to define the filepath to the dataset, and since the file is in a (compressed) CSV format we can load it as a `pandas.DataFrame` as follows:"
      ]
    },
    {
      "cell_type": "code",
      "execution_count": null,
      "metadata": {
        "id": "2nZOC0-aCVGY",
        "outputId": "8ddfe36f-c602-4347-9645-0be4fe17b989"
      },
      "outputs": [
        {
          "name": "stdout",
          "output_type": "stream",
          "text": [
            "CPU times: user 30.5 s, sys: 1.47 s, total: 31.9 s\n",
            "Wall time: 32.6 s\n"
          ]
        }
      ],
      "source": [
        "columns = [\n",
        "    \"signal\",\n",
        "    \"lepton 1 pT\",\n",
        "    \"lepton 1 eta\",\n",
        "    \"lepton 1 phi\",\n",
        "    \"lepton 2 pT\",\n",
        "    \"lepton 2 eta\",\n",
        "    \"lepton 2 phi\",\n",
        "    \"missing energy magnitude\",\n",
        "    \"missing energy phi\",\n",
        "    \"MET_rel\",\n",
        "    \"axial MET\",\n",
        "    \"M_R\",\n",
        "    \"M_TR_2\",\n",
        "    \"R\",\n",
        "    \"MT2\",\n",
        "    \"S_R\",\n",
        "    \"M_Delta_R\",\n",
        "    \"dPhi_r_b\",\n",
        "    \"cos(theta_r1)\",\n",
        "]\n",
        "\n",
        "# this can take a while to load ...\n",
        "%time susy = pd.read_csv(DATA / \"susy.csv.gz\", compression=\"gzip\", names=columns)"
      ]
    },
    {
      "cell_type": "markdown",
      "metadata": {
        "id": "OgvZ16PuCVGZ"
      },
      "source": [
        "Loading and saving large datasets like this one can be a major bottleneck in the exploratory phase of a machine learning project. Fortunately there are several _binary_ formats that can be used for storing data on disk, and [Feather](https://blog.rstudio.com/2016/03/29/feather/) is one of the fastest for I/O and memory usage (see [benchmark](https://towardsdatascience.com/the-best-format-to-save-pandas-data-414dca023e0d)). \n",
        "\n",
        "Thus one way to speed up our I/O cycles is to first save our `pandas.DataFrame` to disk in Feather format so we can reuse it in downstream tasks:"
      ]
    },
    {
      "cell_type": "code",
      "execution_count": null,
      "metadata": {
        "id": "NyBtiH5NCVGa"
      },
      "outputs": [],
      "source": [
        "susy.to_feather(DATA / \"susy.feather\")"
      ]
    },
    {
      "cell_type": "code",
      "execution_count": null,
      "metadata": {
        "id": "zMDyP9WHCVGa",
        "outputId": "ebe70259-0f2c-4d8b-df16-d85c120d2f36"
      },
      "outputs": [
        {
          "name": "stdout",
          "output_type": "stream",
          "text": [
            "CPU times: user 497 ms, sys: 3.07 s, total: 3.57 s\n",
            "Wall time: 1.83 s\n"
          ]
        }
      ],
      "source": [
        "%time susy = pd.read_feather(DATA/'susy.feather')"
      ]
    },
    {
      "cell_type": "markdown",
      "metadata": {
        "id": "U_kxvOZpCVGb"
      },
      "source": [
        "That's about 100x speedup factor - not bad!"
      ]
    },
    {
      "cell_type": "markdown",
      "metadata": {
        "id": "NOzY6-O0CVGc"
      },
      "source": [
        "> Warning: Although an excellent choice for most applications, Feather is not intended for long-term storage because the format may not be stable between versions. See https://blog.rstudio.com/2016/03/29/feather/"
      ]
    },
    {
      "cell_type": "markdown",
      "metadata": {
        "id": "hNikHi8PCVGc"
      },
      "source": [
        "## Inspect the data"
      ]
    },
    {
      "cell_type": "markdown",
      "metadata": {
        "id": "xeE8_lqfCVGc"
      },
      "source": [
        "### Preview the data"
      ]
    },
    {
      "cell_type": "markdown",
      "metadata": {
        "id": "lKA0Ba3jCVGd"
      },
      "source": [
        "This first thing you should do after creating a `pandas.DataFrame` is to inspect the first/last few rows to make sure there's no surprises in the data format that need to be dealt with. For example, one often finds metadata or aggregations at the end of CSV/Excel files, and this can cause problems if not handled correctly."
      ]
    },
    {
      "cell_type": "markdown",
      "metadata": {
        "id": "pfjoLy2vCVGe"
      },
      "source": [
        "The `DataFrame.head` method displays the _first_ five rows of a `pandas.DataFrame`:"
      ]
    },
    {
      "cell_type": "code",
      "execution_count": null,
      "metadata": {
        "id": "u15Qg3puCVGe",
        "outputId": "be30dc02-734d-4e40-fc64-c9bed43b3cb5"
      },
      "outputs": [
        {
          "data": {
            "text/html": [
              "<div>\n",
              "<style scoped>\n",
              "    .dataframe tbody tr th:only-of-type {\n",
              "        vertical-align: middle;\n",
              "    }\n",
              "\n",
              "    .dataframe tbody tr th {\n",
              "        vertical-align: top;\n",
              "    }\n",
              "\n",
              "    .dataframe thead th {\n",
              "        text-align: right;\n",
              "    }\n",
              "</style>\n",
              "<table border=\"1\" class=\"dataframe\">\n",
              "  <thead>\n",
              "    <tr style=\"text-align: right;\">\n",
              "      <th></th>\n",
              "      <th>signal</th>\n",
              "      <th>lepton 1 pT</th>\n",
              "      <th>lepton 1 eta</th>\n",
              "      <th>lepton 1 phi</th>\n",
              "      <th>lepton 2 pT</th>\n",
              "      <th>lepton 2 eta</th>\n",
              "      <th>lepton 2 phi</th>\n",
              "      <th>missing energy magnitude</th>\n",
              "      <th>missing energy phi</th>\n",
              "      <th>MET_rel</th>\n",
              "      <th>axial MET</th>\n",
              "      <th>M_R</th>\n",
              "      <th>M_TR_2</th>\n",
              "      <th>R</th>\n",
              "      <th>MT2</th>\n",
              "      <th>S_R</th>\n",
              "      <th>M_Delta_R</th>\n",
              "      <th>dPhi_r_b</th>\n",
              "      <th>cos(theta_r1)</th>\n",
              "    </tr>\n",
              "  </thead>\n",
              "  <tbody>\n",
              "    <tr>\n",
              "      <th>0</th>\n",
              "      <td>0.0</td>\n",
              "      <td>0.972861</td>\n",
              "      <td>0.653855</td>\n",
              "      <td>1.176225</td>\n",
              "      <td>1.157156</td>\n",
              "      <td>-1.739873</td>\n",
              "      <td>-0.874309</td>\n",
              "      <td>0.567765</td>\n",
              "      <td>-0.175000</td>\n",
              "      <td>0.810061</td>\n",
              "      <td>-0.252552</td>\n",
              "      <td>1.921887</td>\n",
              "      <td>0.889637</td>\n",
              "      <td>0.410772</td>\n",
              "      <td>1.145621</td>\n",
              "      <td>1.932632</td>\n",
              "      <td>0.994464</td>\n",
              "      <td>1.367815</td>\n",
              "      <td>0.040714</td>\n",
              "    </tr>\n",
              "    <tr>\n",
              "      <th>1</th>\n",
              "      <td>1.0</td>\n",
              "      <td>1.667973</td>\n",
              "      <td>0.064191</td>\n",
              "      <td>-1.225171</td>\n",
              "      <td>0.506102</td>\n",
              "      <td>-0.338939</td>\n",
              "      <td>1.672543</td>\n",
              "      <td>3.475464</td>\n",
              "      <td>-1.219136</td>\n",
              "      <td>0.012955</td>\n",
              "      <td>3.775174</td>\n",
              "      <td>1.045977</td>\n",
              "      <td>0.568051</td>\n",
              "      <td>0.481928</td>\n",
              "      <td>0.000000</td>\n",
              "      <td>0.448410</td>\n",
              "      <td>0.205356</td>\n",
              "      <td>1.321893</td>\n",
              "      <td>0.377584</td>\n",
              "    </tr>\n",
              "    <tr>\n",
              "      <th>2</th>\n",
              "      <td>1.0</td>\n",
              "      <td>0.444840</td>\n",
              "      <td>-0.134298</td>\n",
              "      <td>-0.709972</td>\n",
              "      <td>0.451719</td>\n",
              "      <td>-1.613871</td>\n",
              "      <td>-0.768661</td>\n",
              "      <td>1.219918</td>\n",
              "      <td>0.504026</td>\n",
              "      <td>1.831248</td>\n",
              "      <td>-0.431385</td>\n",
              "      <td>0.526283</td>\n",
              "      <td>0.941514</td>\n",
              "      <td>1.587535</td>\n",
              "      <td>2.024308</td>\n",
              "      <td>0.603498</td>\n",
              "      <td>1.562374</td>\n",
              "      <td>1.135454</td>\n",
              "      <td>0.180910</td>\n",
              "    </tr>\n",
              "    <tr>\n",
              "      <th>3</th>\n",
              "      <td>1.0</td>\n",
              "      <td>0.381256</td>\n",
              "      <td>-0.976145</td>\n",
              "      <td>0.693152</td>\n",
              "      <td>0.448959</td>\n",
              "      <td>0.891753</td>\n",
              "      <td>-0.677328</td>\n",
              "      <td>2.033060</td>\n",
              "      <td>1.533041</td>\n",
              "      <td>3.046260</td>\n",
              "      <td>-1.005285</td>\n",
              "      <td>0.569386</td>\n",
              "      <td>1.015211</td>\n",
              "      <td>1.582217</td>\n",
              "      <td>1.551914</td>\n",
              "      <td>0.761215</td>\n",
              "      <td>1.715464</td>\n",
              "      <td>1.492257</td>\n",
              "      <td>0.090719</td>\n",
              "    </tr>\n",
              "    <tr>\n",
              "      <th>4</th>\n",
              "      <td>1.0</td>\n",
              "      <td>1.309996</td>\n",
              "      <td>-0.690089</td>\n",
              "      <td>-0.676259</td>\n",
              "      <td>1.589283</td>\n",
              "      <td>-0.693326</td>\n",
              "      <td>0.622907</td>\n",
              "      <td>1.087562</td>\n",
              "      <td>-0.381742</td>\n",
              "      <td>0.589204</td>\n",
              "      <td>1.365479</td>\n",
              "      <td>1.179295</td>\n",
              "      <td>0.968218</td>\n",
              "      <td>0.728563</td>\n",
              "      <td>0.000000</td>\n",
              "      <td>1.083158</td>\n",
              "      <td>0.043429</td>\n",
              "      <td>1.154854</td>\n",
              "      <td>0.094859</td>\n",
              "    </tr>\n",
              "  </tbody>\n",
              "</table>\n",
              "</div>"
            ],
            "text/plain": [
              "   signal  lepton 1 pT  lepton 1 eta  lepton 1 phi  lepton 2 pT  lepton 2 eta  \\\n",
              "0     0.0     0.972861      0.653855      1.176225     1.157156     -1.739873   \n",
              "1     1.0     1.667973      0.064191     -1.225171     0.506102     -0.338939   \n",
              "2     1.0     0.444840     -0.134298     -0.709972     0.451719     -1.613871   \n",
              "3     1.0     0.381256     -0.976145      0.693152     0.448959      0.891753   \n",
              "4     1.0     1.309996     -0.690089     -0.676259     1.589283     -0.693326   \n",
              "\n",
              "   lepton 2 phi  missing energy magnitude  missing energy phi   MET_rel  \\\n",
              "0     -0.874309                  0.567765           -0.175000  0.810061   \n",
              "1      1.672543                  3.475464           -1.219136  0.012955   \n",
              "2     -0.768661                  1.219918            0.504026  1.831248   \n",
              "3     -0.677328                  2.033060            1.533041  3.046260   \n",
              "4      0.622907                  1.087562           -0.381742  0.589204   \n",
              "\n",
              "   axial MET       M_R    M_TR_2         R       MT2       S_R  M_Delta_R  \\\n",
              "0  -0.252552  1.921887  0.889637  0.410772  1.145621  1.932632   0.994464   \n",
              "1   3.775174  1.045977  0.568051  0.481928  0.000000  0.448410   0.205356   \n",
              "2  -0.431385  0.526283  0.941514  1.587535  2.024308  0.603498   1.562374   \n",
              "3  -1.005285  0.569386  1.015211  1.582217  1.551914  0.761215   1.715464   \n",
              "4   1.365479  1.179295  0.968218  0.728563  0.000000  1.083158   0.043429   \n",
              "\n",
              "   dPhi_r_b  cos(theta_r1)  \n",
              "0  1.367815       0.040714  \n",
              "1  1.321893       0.377584  \n",
              "2  1.135454       0.180910  \n",
              "3  1.492257       0.090719  \n",
              "4  1.154854       0.094859  "
            ]
          },
          "execution_count": null,
          "metadata": {},
          "output_type": "execute_result"
        }
      ],
      "source": [
        "susy.head()"
      ]
    },
    {
      "cell_type": "markdown",
      "metadata": {
        "id": "ujRRA5DOCVGf"
      },
      "source": [
        "If we want to see more rows, we just pass an integer argument to the method as follows:"
      ]
    },
    {
      "cell_type": "code",
      "execution_count": null,
      "metadata": {
        "id": "yrxSgQqdCVGf",
        "outputId": "9735f42a-24dd-4e8e-837a-ae936091a3ca"
      },
      "outputs": [
        {
          "data": {
            "text/html": [
              "<div>\n",
              "<style scoped>\n",
              "    .dataframe tbody tr th:only-of-type {\n",
              "        vertical-align: middle;\n",
              "    }\n",
              "\n",
              "    .dataframe tbody tr th {\n",
              "        vertical-align: top;\n",
              "    }\n",
              "\n",
              "    .dataframe thead th {\n",
              "        text-align: right;\n",
              "    }\n",
              "</style>\n",
              "<table border=\"1\" class=\"dataframe\">\n",
              "  <thead>\n",
              "    <tr style=\"text-align: right;\">\n",
              "      <th></th>\n",
              "      <th>signal</th>\n",
              "      <th>lepton 1 pT</th>\n",
              "      <th>lepton 1 eta</th>\n",
              "      <th>lepton 1 phi</th>\n",
              "      <th>lepton 2 pT</th>\n",
              "      <th>lepton 2 eta</th>\n",
              "      <th>lepton 2 phi</th>\n",
              "      <th>missing energy magnitude</th>\n",
              "      <th>missing energy phi</th>\n",
              "      <th>MET_rel</th>\n",
              "      <th>axial MET</th>\n",
              "      <th>M_R</th>\n",
              "      <th>M_TR_2</th>\n",
              "      <th>R</th>\n",
              "      <th>MT2</th>\n",
              "      <th>S_R</th>\n",
              "      <th>M_Delta_R</th>\n",
              "      <th>dPhi_r_b</th>\n",
              "      <th>cos(theta_r1)</th>\n",
              "    </tr>\n",
              "  </thead>\n",
              "  <tbody>\n",
              "    <tr>\n",
              "      <th>0</th>\n",
              "      <td>0.0</td>\n",
              "      <td>0.972861</td>\n",
              "      <td>0.653855</td>\n",
              "      <td>1.176225</td>\n",
              "      <td>1.157156</td>\n",
              "      <td>-1.739873</td>\n",
              "      <td>-0.874309</td>\n",
              "      <td>0.567765</td>\n",
              "      <td>-0.175000</td>\n",
              "      <td>0.810061</td>\n",
              "      <td>-0.252552</td>\n",
              "      <td>1.921887</td>\n",
              "      <td>0.889637</td>\n",
              "      <td>0.410772</td>\n",
              "      <td>1.145621</td>\n",
              "      <td>1.932632</td>\n",
              "      <td>0.994464</td>\n",
              "      <td>1.367815</td>\n",
              "      <td>0.040714</td>\n",
              "    </tr>\n",
              "    <tr>\n",
              "      <th>1</th>\n",
              "      <td>1.0</td>\n",
              "      <td>1.667973</td>\n",
              "      <td>0.064191</td>\n",
              "      <td>-1.225171</td>\n",
              "      <td>0.506102</td>\n",
              "      <td>-0.338939</td>\n",
              "      <td>1.672543</td>\n",
              "      <td>3.475464</td>\n",
              "      <td>-1.219136</td>\n",
              "      <td>0.012955</td>\n",
              "      <td>3.775174</td>\n",
              "      <td>1.045977</td>\n",
              "      <td>0.568051</td>\n",
              "      <td>0.481928</td>\n",
              "      <td>0.000000</td>\n",
              "      <td>0.448410</td>\n",
              "      <td>0.205356</td>\n",
              "      <td>1.321893</td>\n",
              "      <td>0.377584</td>\n",
              "    </tr>\n",
              "    <tr>\n",
              "      <th>2</th>\n",
              "      <td>1.0</td>\n",
              "      <td>0.444840</td>\n",
              "      <td>-0.134298</td>\n",
              "      <td>-0.709972</td>\n",
              "      <td>0.451719</td>\n",
              "      <td>-1.613871</td>\n",
              "      <td>-0.768661</td>\n",
              "      <td>1.219918</td>\n",
              "      <td>0.504026</td>\n",
              "      <td>1.831248</td>\n",
              "      <td>-0.431385</td>\n",
              "      <td>0.526283</td>\n",
              "      <td>0.941514</td>\n",
              "      <td>1.587535</td>\n",
              "      <td>2.024308</td>\n",
              "      <td>0.603498</td>\n",
              "      <td>1.562374</td>\n",
              "      <td>1.135454</td>\n",
              "      <td>0.180910</td>\n",
              "    </tr>\n",
              "    <tr>\n",
              "      <th>3</th>\n",
              "      <td>1.0</td>\n",
              "      <td>0.381256</td>\n",
              "      <td>-0.976145</td>\n",
              "      <td>0.693152</td>\n",
              "      <td>0.448959</td>\n",
              "      <td>0.891753</td>\n",
              "      <td>-0.677328</td>\n",
              "      <td>2.033060</td>\n",
              "      <td>1.533041</td>\n",
              "      <td>3.046260</td>\n",
              "      <td>-1.005285</td>\n",
              "      <td>0.569386</td>\n",
              "      <td>1.015211</td>\n",
              "      <td>1.582217</td>\n",
              "      <td>1.551914</td>\n",
              "      <td>0.761215</td>\n",
              "      <td>1.715464</td>\n",
              "      <td>1.492257</td>\n",
              "      <td>0.090719</td>\n",
              "    </tr>\n",
              "    <tr>\n",
              "      <th>4</th>\n",
              "      <td>1.0</td>\n",
              "      <td>1.309996</td>\n",
              "      <td>-0.690089</td>\n",
              "      <td>-0.676259</td>\n",
              "      <td>1.589283</td>\n",
              "      <td>-0.693326</td>\n",
              "      <td>0.622907</td>\n",
              "      <td>1.087562</td>\n",
              "      <td>-0.381742</td>\n",
              "      <td>0.589204</td>\n",
              "      <td>1.365479</td>\n",
              "      <td>1.179295</td>\n",
              "      <td>0.968218</td>\n",
              "      <td>0.728563</td>\n",
              "      <td>0.000000</td>\n",
              "      <td>1.083158</td>\n",
              "      <td>0.043429</td>\n",
              "      <td>1.154854</td>\n",
              "      <td>0.094859</td>\n",
              "    </tr>\n",
              "    <tr>\n",
              "      <th>5</th>\n",
              "      <td>0.0</td>\n",
              "      <td>0.456398</td>\n",
              "      <td>1.099371</td>\n",
              "      <td>1.512453</td>\n",
              "      <td>0.751772</td>\n",
              "      <td>0.638967</td>\n",
              "      <td>-0.742216</td>\n",
              "      <td>0.322601</td>\n",
              "      <td>1.321054</td>\n",
              "      <td>0.169502</td>\n",
              "      <td>0.359941</td>\n",
              "      <td>0.489256</td>\n",
              "      <td>0.416168</td>\n",
              "      <td>0.754829</td>\n",
              "      <td>0.303750</td>\n",
              "      <td>0.461067</td>\n",
              "      <td>0.345541</td>\n",
              "      <td>0.733242</td>\n",
              "      <td>0.186044</td>\n",
              "    </tr>\n",
              "    <tr>\n",
              "      <th>6</th>\n",
              "      <td>0.0</td>\n",
              "      <td>0.437818</td>\n",
              "      <td>-1.119883</td>\n",
              "      <td>-1.336823</td>\n",
              "      <td>0.502320</td>\n",
              "      <td>-1.717515</td>\n",
              "      <td>1.017067</td>\n",
              "      <td>0.215619</td>\n",
              "      <td>-0.461200</td>\n",
              "      <td>0.323671</td>\n",
              "      <td>0.173626</td>\n",
              "      <td>0.411898</td>\n",
              "      <td>0.370525</td>\n",
              "      <td>0.798260</td>\n",
              "      <td>0.671369</td>\n",
              "      <td>0.385910</td>\n",
              "      <td>0.515522</td>\n",
              "      <td>0.479110</td>\n",
              "      <td>0.029058</td>\n",
              "    </tr>\n",
              "    <tr>\n",
              "      <th>7</th>\n",
              "      <td>0.0</td>\n",
              "      <td>0.571656</td>\n",
              "      <td>0.205696</td>\n",
              "      <td>0.425950</td>\n",
              "      <td>0.578514</td>\n",
              "      <td>0.927399</td>\n",
              "      <td>-1.101478</td>\n",
              "      <td>0.116555</td>\n",
              "      <td>1.549753</td>\n",
              "      <td>0.174421</td>\n",
              "      <td>0.223450</td>\n",
              "      <td>0.523164</td>\n",
              "      <td>0.289889</td>\n",
              "      <td>0.491710</td>\n",
              "      <td>0.334593</td>\n",
              "      <td>0.514246</td>\n",
              "      <td>0.268207</td>\n",
              "      <td>0.315795</td>\n",
              "      <td>0.125728</td>\n",
              "    </tr>\n",
              "    <tr>\n",
              "      <th>8</th>\n",
              "      <td>1.0</td>\n",
              "      <td>2.112812</td>\n",
              "      <td>0.742983</td>\n",
              "      <td>-0.330539</td>\n",
              "      <td>0.805253</td>\n",
              "      <td>-0.028887</td>\n",
              "      <td>-1.446679</td>\n",
              "      <td>2.299946</td>\n",
              "      <td>1.450429</td>\n",
              "      <td>2.989110</td>\n",
              "      <td>-1.894770</td>\n",
              "      <td>1.445125</td>\n",
              "      <td>2.548166</td>\n",
              "      <td>1.564721</td>\n",
              "      <td>2.393632</td>\n",
              "      <td>1.554566</td>\n",
              "      <td>2.148468</td>\n",
              "      <td>1.179117</td>\n",
              "      <td>0.688057</td>\n",
              "    </tr>\n",
              "    <tr>\n",
              "      <th>9</th>\n",
              "      <td>0.0</td>\n",
              "      <td>1.001869</td>\n",
              "      <td>-0.471788</td>\n",
              "      <td>0.555614</td>\n",
              "      <td>1.233368</td>\n",
              "      <td>1.255548</td>\n",
              "      <td>-1.052491</td>\n",
              "      <td>0.437615</td>\n",
              "      <td>-1.333052</td>\n",
              "      <td>0.326858</td>\n",
              "      <td>-0.111678</td>\n",
              "      <td>1.435708</td>\n",
              "      <td>0.755201</td>\n",
              "      <td>0.466779</td>\n",
              "      <td>0.454541</td>\n",
              "      <td>1.446331</td>\n",
              "      <td>0.592259</td>\n",
              "      <td>1.325197</td>\n",
              "      <td>0.083014</td>\n",
              "    </tr>\n",
              "  </tbody>\n",
              "</table>\n",
              "</div>"
            ],
            "text/plain": [
              "   signal  lepton 1 pT  lepton 1 eta  lepton 1 phi  lepton 2 pT  lepton 2 eta  \\\n",
              "0     0.0     0.972861      0.653855      1.176225     1.157156     -1.739873   \n",
              "1     1.0     1.667973      0.064191     -1.225171     0.506102     -0.338939   \n",
              "2     1.0     0.444840     -0.134298     -0.709972     0.451719     -1.613871   \n",
              "3     1.0     0.381256     -0.976145      0.693152     0.448959      0.891753   \n",
              "4     1.0     1.309996     -0.690089     -0.676259     1.589283     -0.693326   \n",
              "5     0.0     0.456398      1.099371      1.512453     0.751772      0.638967   \n",
              "6     0.0     0.437818     -1.119883     -1.336823     0.502320     -1.717515   \n",
              "7     0.0     0.571656      0.205696      0.425950     0.578514      0.927399   \n",
              "8     1.0     2.112812      0.742983     -0.330539     0.805253     -0.028887   \n",
              "9     0.0     1.001869     -0.471788      0.555614     1.233368      1.255548   \n",
              "\n",
              "   lepton 2 phi  missing energy magnitude  missing energy phi   MET_rel  \\\n",
              "0     -0.874309                  0.567765           -0.175000  0.810061   \n",
              "1      1.672543                  3.475464           -1.219136  0.012955   \n",
              "2     -0.768661                  1.219918            0.504026  1.831248   \n",
              "3     -0.677328                  2.033060            1.533041  3.046260   \n",
              "4      0.622907                  1.087562           -0.381742  0.589204   \n",
              "5     -0.742216                  0.322601            1.321054  0.169502   \n",
              "6      1.017067                  0.215619           -0.461200  0.323671   \n",
              "7     -1.101478                  0.116555            1.549753  0.174421   \n",
              "8     -1.446679                  2.299946            1.450429  2.989110   \n",
              "9     -1.052491                  0.437615           -1.333052  0.326858   \n",
              "\n",
              "   axial MET       M_R    M_TR_2         R       MT2       S_R  M_Delta_R  \\\n",
              "0  -0.252552  1.921887  0.889637  0.410772  1.145621  1.932632   0.994464   \n",
              "1   3.775174  1.045977  0.568051  0.481928  0.000000  0.448410   0.205356   \n",
              "2  -0.431385  0.526283  0.941514  1.587535  2.024308  0.603498   1.562374   \n",
              "3  -1.005285  0.569386  1.015211  1.582217  1.551914  0.761215   1.715464   \n",
              "4   1.365479  1.179295  0.968218  0.728563  0.000000  1.083158   0.043429   \n",
              "5   0.359941  0.489256  0.416168  0.754829  0.303750  0.461067   0.345541   \n",
              "6   0.173626  0.411898  0.370525  0.798260  0.671369  0.385910   0.515522   \n",
              "7   0.223450  0.523164  0.289889  0.491710  0.334593  0.514246   0.268207   \n",
              "8  -1.894770  1.445125  2.548166  1.564721  2.393632  1.554566   2.148468   \n",
              "9  -0.111678  1.435708  0.755201  0.466779  0.454541  1.446331   0.592259   \n",
              "\n",
              "   dPhi_r_b  cos(theta_r1)  \n",
              "0  1.367815       0.040714  \n",
              "1  1.321893       0.377584  \n",
              "2  1.135454       0.180910  \n",
              "3  1.492257       0.090719  \n",
              "4  1.154854       0.094859  \n",
              "5  0.733242       0.186044  \n",
              "6  0.479110       0.029058  \n",
              "7  0.315795       0.125728  \n",
              "8  1.179117       0.688057  \n",
              "9  1.325197       0.083014  "
            ]
          },
          "execution_count": null,
          "metadata": {},
          "output_type": "execute_result"
        }
      ],
      "source": [
        "susy.head(10)"
      ]
    },
    {
      "cell_type": "markdown",
      "metadata": {
        "id": "B6Db4cOzCVGi"
      },
      "source": [
        "Similar to `DataFrame.head`, the `DataFrame.tail` method returns the _last_ five rows of a `pandas.DataFrame`:"
      ]
    },
    {
      "cell_type": "code",
      "execution_count": null,
      "metadata": {
        "id": "nqJeASvDCVGi",
        "outputId": "5a8c4345-8e3c-40ee-8dfa-9bccfcf15adf"
      },
      "outputs": [
        {
          "data": {
            "text/html": [
              "<div>\n",
              "<style scoped>\n",
              "    .dataframe tbody tr th:only-of-type {\n",
              "        vertical-align: middle;\n",
              "    }\n",
              "\n",
              "    .dataframe tbody tr th {\n",
              "        vertical-align: top;\n",
              "    }\n",
              "\n",
              "    .dataframe thead th {\n",
              "        text-align: right;\n",
              "    }\n",
              "</style>\n",
              "<table border=\"1\" class=\"dataframe\">\n",
              "  <thead>\n",
              "    <tr style=\"text-align: right;\">\n",
              "      <th></th>\n",
              "      <th>signal</th>\n",
              "      <th>lepton 1 pT</th>\n",
              "      <th>lepton 1 eta</th>\n",
              "      <th>lepton 1 phi</th>\n",
              "      <th>lepton 2 pT</th>\n",
              "      <th>lepton 2 eta</th>\n",
              "      <th>lepton 2 phi</th>\n",
              "      <th>missing energy magnitude</th>\n",
              "      <th>missing energy phi</th>\n",
              "      <th>MET_rel</th>\n",
              "      <th>axial MET</th>\n",
              "      <th>M_R</th>\n",
              "      <th>M_TR_2</th>\n",
              "      <th>R</th>\n",
              "      <th>MT2</th>\n",
              "      <th>S_R</th>\n",
              "      <th>M_Delta_R</th>\n",
              "      <th>dPhi_r_b</th>\n",
              "      <th>cos(theta_r1)</th>\n",
              "    </tr>\n",
              "  </thead>\n",
              "  <tbody>\n",
              "    <tr>\n",
              "      <th>4999995</th>\n",
              "      <td>1.0</td>\n",
              "      <td>0.853325</td>\n",
              "      <td>-0.961783</td>\n",
              "      <td>-1.487277</td>\n",
              "      <td>0.678190</td>\n",
              "      <td>0.493580</td>\n",
              "      <td>1.647969</td>\n",
              "      <td>1.843867</td>\n",
              "      <td>0.276954</td>\n",
              "      <td>1.025105</td>\n",
              "      <td>-1.486535</td>\n",
              "      <td>0.892879</td>\n",
              "      <td>1.684429</td>\n",
              "      <td>1.674084</td>\n",
              "      <td>3.366298</td>\n",
              "      <td>1.046707</td>\n",
              "      <td>2.646649</td>\n",
              "      <td>1.389226</td>\n",
              "      <td>0.364599</td>\n",
              "    </tr>\n",
              "    <tr>\n",
              "      <th>4999996</th>\n",
              "      <td>0.0</td>\n",
              "      <td>0.951581</td>\n",
              "      <td>0.139370</td>\n",
              "      <td>1.436884</td>\n",
              "      <td>0.880440</td>\n",
              "      <td>-0.351948</td>\n",
              "      <td>-0.740852</td>\n",
              "      <td>0.290863</td>\n",
              "      <td>-0.732360</td>\n",
              "      <td>0.001360</td>\n",
              "      <td>0.257738</td>\n",
              "      <td>0.802871</td>\n",
              "      <td>0.545319</td>\n",
              "      <td>0.602730</td>\n",
              "      <td>0.002998</td>\n",
              "      <td>0.748959</td>\n",
              "      <td>0.401166</td>\n",
              "      <td>0.443471</td>\n",
              "      <td>0.239953</td>\n",
              "    </tr>\n",
              "    <tr>\n",
              "      <th>4999997</th>\n",
              "      <td>0.0</td>\n",
              "      <td>0.840389</td>\n",
              "      <td>1.419162</td>\n",
              "      <td>-1.218766</td>\n",
              "      <td>1.195631</td>\n",
              "      <td>1.695645</td>\n",
              "      <td>0.663756</td>\n",
              "      <td>0.490888</td>\n",
              "      <td>-0.509186</td>\n",
              "      <td>0.704289</td>\n",
              "      <td>0.045744</td>\n",
              "      <td>0.825015</td>\n",
              "      <td>0.723530</td>\n",
              "      <td>0.778236</td>\n",
              "      <td>0.752942</td>\n",
              "      <td>0.838953</td>\n",
              "      <td>0.614048</td>\n",
              "      <td>1.210595</td>\n",
              "      <td>0.026692</td>\n",
              "    </tr>\n",
              "    <tr>\n",
              "      <th>4999998</th>\n",
              "      <td>1.0</td>\n",
              "      <td>1.784218</td>\n",
              "      <td>-0.833565</td>\n",
              "      <td>-0.560091</td>\n",
              "      <td>0.953342</td>\n",
              "      <td>-0.688969</td>\n",
              "      <td>-1.428233</td>\n",
              "      <td>2.660703</td>\n",
              "      <td>-0.861344</td>\n",
              "      <td>2.116892</td>\n",
              "      <td>2.906151</td>\n",
              "      <td>1.232334</td>\n",
              "      <td>0.952444</td>\n",
              "      <td>0.685846</td>\n",
              "      <td>0.000000</td>\n",
              "      <td>0.781874</td>\n",
              "      <td>0.676003</td>\n",
              "      <td>1.197807</td>\n",
              "      <td>0.093689</td>\n",
              "    </tr>\n",
              "    <tr>\n",
              "      <th>4999999</th>\n",
              "      <td>0.0</td>\n",
              "      <td>0.761500</td>\n",
              "      <td>0.680454</td>\n",
              "      <td>-1.186213</td>\n",
              "      <td>1.043521</td>\n",
              "      <td>-0.316755</td>\n",
              "      <td>0.246879</td>\n",
              "      <td>1.120280</td>\n",
              "      <td>0.998479</td>\n",
              "      <td>1.640881</td>\n",
              "      <td>-0.797688</td>\n",
              "      <td>0.854212</td>\n",
              "      <td>1.121858</td>\n",
              "      <td>1.165438</td>\n",
              "      <td>1.498351</td>\n",
              "      <td>0.931580</td>\n",
              "      <td>1.293524</td>\n",
              "      <td>1.539167</td>\n",
              "      <td>0.187496</td>\n",
              "    </tr>\n",
              "  </tbody>\n",
              "</table>\n",
              "</div>"
            ],
            "text/plain": [
              "         signal  lepton 1 pT  lepton 1 eta  lepton 1 phi  lepton 2 pT  \\\n",
              "4999995     1.0     0.853325     -0.961783     -1.487277     0.678190   \n",
              "4999996     0.0     0.951581      0.139370      1.436884     0.880440   \n",
              "4999997     0.0     0.840389      1.419162     -1.218766     1.195631   \n",
              "4999998     1.0     1.784218     -0.833565     -0.560091     0.953342   \n",
              "4999999     0.0     0.761500      0.680454     -1.186213     1.043521   \n",
              "\n",
              "         lepton 2 eta  lepton 2 phi  missing energy magnitude  \\\n",
              "4999995      0.493580      1.647969                  1.843867   \n",
              "4999996     -0.351948     -0.740852                  0.290863   \n",
              "4999997      1.695645      0.663756                  0.490888   \n",
              "4999998     -0.688969     -1.428233                  2.660703   \n",
              "4999999     -0.316755      0.246879                  1.120280   \n",
              "\n",
              "         missing energy phi   MET_rel  axial MET       M_R    M_TR_2  \\\n",
              "4999995            0.276954  1.025105  -1.486535  0.892879  1.684429   \n",
              "4999996           -0.732360  0.001360   0.257738  0.802871  0.545319   \n",
              "4999997           -0.509186  0.704289   0.045744  0.825015  0.723530   \n",
              "4999998           -0.861344  2.116892   2.906151  1.232334  0.952444   \n",
              "4999999            0.998479  1.640881  -0.797688  0.854212  1.121858   \n",
              "\n",
              "                R       MT2       S_R  M_Delta_R  dPhi_r_b  cos(theta_r1)  \n",
              "4999995  1.674084  3.366298  1.046707   2.646649  1.389226       0.364599  \n",
              "4999996  0.602730  0.002998  0.748959   0.401166  0.443471       0.239953  \n",
              "4999997  0.778236  0.752942  0.838953   0.614048  1.210595       0.026692  \n",
              "4999998  0.685846  0.000000  0.781874   0.676003  1.197807       0.093689  \n",
              "4999999  1.165438  1.498351  0.931580   1.293524  1.539167       0.187496  "
            ]
          },
          "execution_count": null,
          "metadata": {},
          "output_type": "execute_result"
        }
      ],
      "source": [
        "susy.tail()"
      ]
    },
    {
      "cell_type": "markdown",
      "metadata": {
        "id": "EzfZT1f_CVGj"
      },
      "source": [
        "### The shape of data"
      ]
    },
    {
      "cell_type": "markdown",
      "metadata": {
        "id": "AaddCYOICVGj"
      },
      "source": [
        "Whenever we have a new dataset it is handy to begin by getting an idea of how large the `pandas.DataFrame` is. This can be done with either the `len` or `DataFrame.shape` methods:"
      ]
    },
    {
      "cell_type": "code",
      "execution_count": null,
      "metadata": {
        "id": "H5z207laCVGj",
        "outputId": "8a134a31-9238-4cfe-8aa9-a76ebf2e85f2"
      },
      "outputs": [
        {
          "data": {
            "text/plain": [
              "5000000"
            ]
          },
          "execution_count": null,
          "metadata": {},
          "output_type": "execute_result"
        }
      ],
      "source": [
        "# get number of rows\n",
        "len(susy)"
      ]
    },
    {
      "cell_type": "code",
      "execution_count": null,
      "metadata": {
        "id": "_7mxh-rYCVGk",
        "outputId": "e8902c73-4bae-4429-aaee-126d3450767c"
      },
      "outputs": [
        {
          "data": {
            "text/plain": [
              "(5000000, 19)"
            ]
          },
          "execution_count": null,
          "metadata": {},
          "output_type": "execute_result"
        }
      ],
      "source": [
        "# get tuples of (n_rows, n_columns)\n",
        "susy.shape"
      ]
    },
    {
      "cell_type": "markdown",
      "metadata": {
        "id": "UdQHWOtFCVGl"
      },
      "source": [
        "### Info\n",
        "The `DataFrame.info` method is useful to get a quick description of the data, in particular the total number of rows, and each column's type and number of non-null values."
      ]
    },
    {
      "cell_type": "code",
      "execution_count": null,
      "metadata": {
        "id": "1G5hbPcLCVGm",
        "outputId": "0bafca34-3613-4744-def6-1e42cc2c2482"
      },
      "outputs": [
        {
          "name": "stdout",
          "output_type": "stream",
          "text": [
            "<class 'pandas.core.frame.DataFrame'>\n",
            "RangeIndex: 5000000 entries, 0 to 4999999\n",
            "Data columns (total 19 columns):\n",
            " #   Column                    Dtype  \n",
            "---  ------                    -----  \n",
            " 0   signal                    float64\n",
            " 1   lepton 1 pT               float64\n",
            " 2   lepton 1 eta              float64\n",
            " 3   lepton 1 phi              float64\n",
            " 4   lepton 2 pT               float64\n",
            " 5   lepton 2 eta              float64\n",
            " 6   lepton 2 phi              float64\n",
            " 7   missing energy magnitude  float64\n",
            " 8   missing energy phi        float64\n",
            " 9   MET_rel                   float64\n",
            " 10  axial MET                 float64\n",
            " 11  M_R                       float64\n",
            " 12  M_TR_2                    float64\n",
            " 13  R                         float64\n",
            " 14  MT2                       float64\n",
            " 15  S_R                       float64\n",
            " 16  M_Delta_R                 float64\n",
            " 17  dPhi_r_b                  float64\n",
            " 18  cos(theta_r1)             float64\n",
            "dtypes: float64(19)\n",
            "memory usage: 724.8 MB\n"
          ]
        }
      ],
      "source": [
        "susy.info()"
      ]
    },
    {
      "cell_type": "markdown",
      "metadata": {
        "id": "wV-kCrHQCVGn"
      },
      "source": [
        "Luckily for us, it looks like we're dealing with purely numeric data types and there's no missing values 🥳🥳🥳! Let's verify the latter is indeed true:"
      ]
    },
    {
      "cell_type": "code",
      "execution_count": null,
      "metadata": {
        "id": "D9k0I85ACVGo"
      },
      "outputs": [],
      "source": [
        "assert susy.isnull().sum().sum() == 0"
      ]
    },
    {
      "cell_type": "markdown",
      "metadata": {
        "id": "QnuenNEECVGo"
      },
      "source": [
        "## A first look a data visualisation"
      ]
    },
    {
      "cell_type": "markdown",
      "metadata": {
        "id": "VPwlXCynCVGo"
      },
      "source": [
        "Another quick way to get a feel for the type of numeric data that you are dealing with is to plot one or more of the following:\n",
        "\n",
        "* **Histograms:** shows the number of instances (on the vertical axis) that have a given value range (on the horizontal axis). Useful for understanding the _shape_ of a single variable.\n",
        "* **Count plots:** shows the counts of observations in each categorical bin using bars. A count plot can be thought of as a histogram across a categorical, instead of quantitative, variable.\n",
        "\n",
        "To create these plots we will use the [seaborn](https://seaborn.pydata.org/) data visualisation library. In the same way that `pd` is the accepted alias for pandas, one uses `sns` as the alias for seaborn."
      ]
    },
    {
      "cell_type": "markdown",
      "metadata": {
        "id": "226T3ai5CVGp"
      },
      "source": [
        "### Histograms"
      ]
    },
    {
      "cell_type": "markdown",
      "metadata": {
        "id": "pOAmk2PlCVGp"
      },
      "source": [
        "Histograms are one of the most simple, yet powerful types of data visualisation. They can quickly tell us which values are most frequent, whether there are outliers and more. To create a histogram in seaborn, we can use the `seaborn.distplot` method:"
      ]
    },
    {
      "cell_type": "code",
      "execution_count": null,
      "metadata": {
        "id": "5fZ4bKBUCVGp",
        "outputId": "0cd2e7bb-3b22-4bcd-f256-d41c30051fd9"
      },
      "outputs": [
        {
          "data": {
            "image/png": "[encoded data removed]",
            "text/plain": [
              "<Figure size 432x288 with 1 Axes>"
            ]
          },
          "metadata": {},
          "output_type": "display_data"
        }
      ],
      "source": [
        "sns.distplot(susy.query(\"signal == 1\")[\"axial MET\"], kde=False)\n",
        "sns.distplot(susy.query(\"signal == 0\")[\"axial MET\"], kde=False)\n",
        "plt.show()"
      ]
    },
    {
      "cell_type": "markdown",
      "metadata": {
        "id": "PtMLQXkrCVGp"
      },
      "source": [
        "Doing this manually for each feature of interest is tiresome, so let's write a simple function that generalises the process:"
      ]
    },
    {
      "cell_type": "code",
      "execution_count": null,
      "metadata": {
        "id": "J7aBkmxPCVGq"
      },
      "outputs": [],
      "source": [
        "def plot_histogram(feature_name: str, df: pd.DataFrame):\n",
        "    sns.distplot(df.query(\"signal == 1\")[feature_name], label=\"Signal\", kde=False)\n",
        "    sns.distplot(df.query(\"signal == 0\")[feature_name], label=\"Background\", kde=False)\n",
        "    plt.legend(bbox_to_anchor=(1.01, 1), loc=\"upper left\")\n",
        "    plt.show()"
      ]
    },
    {
      "cell_type": "code",
      "execution_count": null,
      "metadata": {
        "id": "2ADmOWPDCVGq",
        "outputId": "98ef1cd1-a44c-43ba-aaaf-bc12fee3c29b"
      },
      "outputs": [
        {
          "data": {
            "image/png": "[encoded data removed]",
            "text/plain": [
              "<Figure size 432x288 with 1 Axes>"
            ]
          },
          "metadata": {},
          "output_type": "display_data"
        }
      ],
      "source": [
        "plot_histogram(\"lepton 1 pT\", susy)"
      ]
    },
    {
      "cell_type": "code",
      "execution_count": null,
      "metadata": {
        "id": "zLyvErS6CVGr",
        "outputId": "2d009f1e-57fa-4cad-cb70-0a385fd00118"
      },
      "outputs": [
        {
          "data": {
            "image/png": "[encoded data removed]",
            "text/plain": [
              "<Figure size 432x288 with 1 Axes>"
            ]
          },
          "metadata": {},
          "output_type": "display_data"
        }
      ],
      "source": [
        "plot_histogram(\"MET_rel\", susy)"
      ]
    },
    {
      "cell_type": "markdown",
      "metadata": {
        "id": "zjh2vKFHCVGr"
      },
      "source": [
        "> Note: In the plots above, we see that we're dealing with a mix of normal and log-normal distributions. For some machine learning algorithms (e.g. Logistic Regression), these long-tailed distributions may require additional transformations in order to not violate the underlying statistical assumptions. Fortunately for us, Random Forests are flexible enough that we do not need to worry about this!"
      ]
    },
    {
      "cell_type": "markdown",
      "metadata": {
        "id": "mBr9Nj5-CVGs"
      },
      "source": [
        "### Count plots"
      ]
    },
    {
      "cell_type": "markdown",
      "metadata": {
        "id": "ZFnpq_3FCVGs"
      },
      "source": [
        "Count plots are handy when you have a categorical feature like `signal` and you want to quickly see the frequencies per category: "
      ]
    },
    {
      "cell_type": "code",
      "execution_count": null,
      "metadata": {
        "id": "5ObcxREfCVGt",
        "outputId": "9ef957b9-a652-4699-f004-9c86f257f7b6"
      },
      "outputs": [
        {
          "data": {
            "image/png": "[encoded data removed]",
            "text/plain": [
              "<Figure size 432x288 with 1 Axes>"
            ]
          },
          "metadata": {},
          "output_type": "display_data"
        }
      ],
      "source": [
        "sns.countplot(x=\"signal\", data=susy)\n",
        "plt.show()"
      ]
    },
    {
      "cell_type": "code",
      "execution_count": null,
      "metadata": {
        "id": "fXd7aU0ACVGu",
        "outputId": "b51361b8-7dbd-4fe5-9209-d57ca296044d"
      },
      "outputs": [
        {
          "data": {
            "text/plain": [
              "0.0    0.542435\n",
              "1.0    0.457565\n",
              "Name: signal, dtype: float64"
            ]
          },
          "execution_count": null,
          "metadata": {},
          "output_type": "execute_result"
        }
      ],
      "source": [
        "susy[\"signal\"].value_counts(normalize=True)"
      ]
    },
    {
      "cell_type": "markdown",
      "metadata": {
        "id": "VqjyNkdXCVGu"
      },
      "source": [
        "From the plot and numbers we see that the \"signal\" and \"background\" classes are nearly balanced, so if we built a dumb classifier that just classifies every single event as \"background\", then we would be right about 54.2% of the time. Clearly our goal is to do much better than this!"
      ]
    },
    {
      "cell_type": "markdown",
      "metadata": {
        "id": "BSQ6b7gvCVGv"
      },
      "source": [
        "## Create a test set"
      ]
    },
    {
      "cell_type": "markdown",
      "metadata": {
        "id": "-gHSMAMFCVGw"
      },
      "source": [
        "Before diving into the model-building phase, let's create a test set to limit ourselves from the [data snooping bias](https://web.ma.utexas.edu/users/mks/statmistakes/datasnooping.html). According to the dataset [description](http://archive.ics.uci.edu/ml/datasets/SUSY#) the last 500,000 rows are used as the test set in the original article, so let's use the same set here:"
      ]
    },
    {
      "cell_type": "code",
      "execution_count": null,
      "metadata": {
        "id": "yzVO087zCVGw"
      },
      "outputs": [],
      "source": [
        "susy_train = susy.copy().iloc[:4500000]\n",
        "susy_test = susy.copy().iloc[-500000:]"
      ]
    },
    {
      "cell_type": "code",
      "execution_count": null,
      "metadata": {
        "id": "4_-xoEp8CVGx"
      },
      "outputs": [],
      "source": [
        "# sanity check on number of rows\n",
        "assert len(susy_train) == 4_500_000\n",
        "assert len(susy_test) == 500_000"
      ]
    },
    {
      "cell_type": "markdown",
      "metadata": {
        "id": "QY5_MKc9CVGx"
      },
      "source": [
        "Let's also save these files to disk for later use:"
      ]
    },
    {
      "cell_type": "code",
      "execution_count": null,
      "metadata": {
        "id": "VW7DNlznCVGy"
      },
      "outputs": [],
      "source": [
        "susy_train.to_feather(DATA / \"susy_train.feather\")\n",
        "# feather requires a default pandas.DataFrame index\n",
        "susy_test.reset_index(drop=True).to_feather(DATA / \"susy_test.feather\")"
      ]
    },
    {
      "cell_type": "markdown",
      "metadata": {
        "id": "UX1u_dcDCVGy"
      },
      "source": [
        "## Speeding things up"
      ]
    },
    {
      "cell_type": "markdown",
      "metadata": {
        "id": "WsCdhbzmCVGz"
      },
      "source": [
        "With 4.5 million events in our dataset, it will be time-consuming to train our models. One way to speed up the rate of iteration, is to select a random sample of 100,000 events to work with:"
      ]
    },
    {
      "cell_type": "code",
      "execution_count": null,
      "metadata": {
        "id": "nkD6zPknCVGz"
      },
      "outputs": [],
      "source": [
        "susy_sample = susy_train.sample(n=100000, random_state=42)"
      ]
    },
    {
      "cell_type": "markdown",
      "metadata": {
        "id": "rtZP0W6kCVG1"
      },
      "source": [
        "While we are at it, let's create three `pandas.DataFrame` objects, one for:\n",
        "\n",
        "* low-level features: these are direct measurements of final state particles, in this case the pT , pseudo-rapidity η, and azimuthal angle φ of two leptons in the event and the amount of missing transverse momentum (MET) together with its azimuthal angle.\n",
        "* high-level features: these are higher order functions of the first 8 features and derived by physicists to help discriminate between the two classes. These high-level features can be thought of as the physicists’ attempt to use non-linear functions to classify signal and background events, having been developed with formidable theoretical effort.\n",
        "* all features: the full set of 18 input features"
      ]
    },
    {
      "cell_type": "code",
      "execution_count": null,
      "metadata": {
        "id": "_MIVG2eXCVG2"
      },
      "outputs": [],
      "source": [
        "low_features = [\n",
        "    \"signal\",\n",
        "    \"lepton 1 pT\",\n",
        "    \"lepton 1 eta\",\n",
        "    \"lepton 1 phi\",\n",
        "    \"lepton 2 pT\",\n",
        "    \"lepton 2 eta\",\n",
        "    \"lepton 2 phi\",\n",
        "    \"missing energy magnitude\",\n",
        "    \"missing energy phi\",\n",
        "]\n",
        "\n",
        "high_features = [\n",
        "    \"signal\",\n",
        "    \"MET_rel\",\n",
        "    \"axial MET\",\n",
        "    \"M_R\",\n",
        "    \"M_TR_2\",\n",
        "    \"R\",\n",
        "    \"MT2\",\n",
        "    \"S_R\",\n",
        "    \"M_Delta_R\",\n",
        "    \"dPhi_r_b\",\n",
        "    \"cos(theta_r1)\",\n",
        "]\n",
        "\n",
        "susy_low = susy_sample[low_features].copy()\n",
        "susy_high = susy_sample[high_features].copy()\n",
        "susy_all = susy_sample.copy()"
      ]
    },
    {
      "cell_type": "markdown",
      "metadata": {
        "id": "BbTDPwC3CVG3"
      },
      "source": [
        "> Tip: whenever you use indexing to create a subset of a `pandas.DataFrame`, it is good practice to use the `DataFrame.copy` method to make a copy of the original data. The reason for this is due to the way in which pandas distinguishes a \"view\" and \"copy\" of a `pandas.DataFrame`, and not forcing pandas to make a copy can have unintended side-effects in downstream analysis. For an in-depth discussion see https://www.dataquest.io/blog/settingwithcopywarning/"
      ]
    },
    {
      "cell_type": "markdown",
      "metadata": {
        "id": "Q0hdBcm9CVG4"
      },
      "source": [
        "## Introducing scikit-learn"
      ]
    },
    {
      "cell_type": "markdown",
      "metadata": {
        "id": "_fbTGLfdCVG4"
      },
      "source": [
        "Now that we've checked that the training data is clean and free from obvious anomalies, it's time to train our model! To do so, we will make use of the scikit-learn library.\n",
        "\n",
        "scikit-learn is one of the best known Python libraries for machine learning and provides efficient implementations of a large number of common algorithms. It has a uniform _Estimator API_ as well as excellent online documentation. The main benefit of its API is that once you understand the basic use and syntax of scikit-learn for one type of model, switching to a new model or algorithm is very easy.\n",
        "\n",
        "**Basics of the API**\n",
        "\n",
        "The most common steps one takes when building a model in scikit-learn are:\n",
        "1. Choose a class of model by importing the appropriate estimator class from scikit-learn.\n",
        "2. Choose model _hyperparameters_ by instantiating this class with the desired values.\n",
        "3. Arrange data into a feature matrix and target vector (see discussion below).\n",
        "4. Fit the model to your data by calling the `fit()` method.\n",
        "5. Evaluate the predictions of the model:\n",
        "    * For supervised learning we typically predict _labels_ for new data using the `predict()` method.\n",
        "    * For unsupervised learning, we often transform or infer properties of the data using the `transform()` or `predict()` methods.\n",
        "    \n",
        "Let's go through each of these steps to build a Random Forest regressor to predict California housing prices."
      ]
    },
    {
      "cell_type": "markdown",
      "metadata": {
        "id": "GHUe_qRSCVG5"
      },
      "source": [
        "### Choose a model"
      ]
    },
    {
      "cell_type": "markdown",
      "metadata": {
        "id": "wJjmNofYCVG5"
      },
      "source": [
        "In scikit-learn, every class of model is represented by a Python class. We want a Random Forest classifier, so looking at the online [docs](https://scikit-learn.org/stable/modules/generated/sklearn.ensemble.RandomForestClassifier.html#sklearn.ensemble.RandomForestClassifier) we should import the `RandomForestClasifier`:"
      ]
    },
    {
      "cell_type": "code",
      "execution_count": null,
      "metadata": {
        "id": "jbS-n3w8CVG5"
      },
      "outputs": [],
      "source": [
        "from sklearn.ensemble import RandomForestClassifier"
      ]
    },
    {
      "cell_type": "markdown",
      "metadata": {
        "id": "HzGSdb__CVG6"
      },
      "source": [
        "### Choose hyperparameters"
      ]
    },
    {
      "cell_type": "markdown",
      "metadata": {
        "id": "Mt01hDRFCVG6"
      },
      "source": [
        "Once we have chosen our model class, there are still some options open to us:\n",
        "\n",
        "* What is the maximum depth of the tree? The default is `None` which means the nodes are expanded until all leaves are pure.\n",
        "* Other parameters can be found in the [docs](https://scikit-learn.org/stable/modules/generated/sklearn.tree.DecisionTreeClassifier.html#sklearn.tree.DecisionTreeClassifier), but for now we take a simple model with just 20 trees.\n",
        "\n",
        "The above choices are often referred to as _hyperparameters_ or parameters that must be set before the model is fit to the data. We can instantiate the `RandomForestClassifier` class and specify the desired hyperparameters as follows:"
      ]
    },
    {
      "cell_type": "code",
      "execution_count": null,
      "metadata": {
        "id": "Pf60SJexCVG7"
      },
      "outputs": [],
      "source": [
        "model = RandomForestClassifier(n_estimators=10, n_jobs=-1)"
      ]
    },
    {
      "cell_type": "markdown",
      "metadata": {
        "id": "odHQS98pCVG7"
      },
      "source": [
        "### Arrange data into a feature matrix and target vector"
      ]
    },
    {
      "cell_type": "markdown",
      "metadata": {
        "id": "sfStorADCVG8"
      },
      "source": [
        "scikit-learn requires that the data be arranged into a two-dimensional feature matrix and a one-dimensional target array. By convention: \n",
        "\n",
        "* The feature matrix is often stored in a variable called `X`. This matrix is typically two-dimensional with shape `[n_samples, n_features]`, where `n_samples` refers to the number of rows (i.e. events in our case) and `n_features` refers to all columns except `signal` which is our target.\n",
        "* The target or label array is usually denoted by `y`."
      ]
    },
    {
      "cell_type": "code",
      "execution_count": null,
      "metadata": {
        "id": "erGQOb6uCVG8"
      },
      "outputs": [],
      "source": [
        "X = susy_all.drop(\"signal\", axis=1)\n",
        "y = susy_all[\"signal\"]"
      ]
    },
    {
      "cell_type": "markdown",
      "metadata": {
        "id": "csvRJ789CVG9"
      },
      "source": [
        "### Fit the model to your data"
      ]
    },
    {
      "cell_type": "markdown",
      "metadata": {
        "id": "LBl_wAcKCVG9"
      },
      "source": [
        "Now it is time to apply our model to data! This can be done with the `fit()` method:"
      ]
    },
    {
      "cell_type": "code",
      "execution_count": null,
      "metadata": {
        "id": "UlGwLEHJCVG-",
        "outputId": "5cb78c99-f98a-40d4-fcdd-48ae3da160a5"
      },
      "outputs": [
        {
          "name": "stdout",
          "output_type": "stream",
          "text": [
            "CPU times: user 7.12 s, sys: 96.2 ms, total: 7.22 s\n",
            "Wall time: 828 ms\n"
          ]
        },
        {
          "data": {
            "text/plain": [
              "RandomForestClassifier(bootstrap=True, ccp_alpha=0.0, class_weight=None,\n",
              "                       criterion='gini', max_depth=None, max_features='auto',\n",
              "                       max_leaf_nodes=None, max_samples=None,\n",
              "                       min_impurity_decrease=0.0, min_impurity_split=None,\n",
              "                       min_samples_leaf=1, min_samples_split=2,\n",
              "                       min_weight_fraction_leaf=0.0, n_estimators=10, n_jobs=-1,\n",
              "                       oob_score=False, random_state=None, verbose=0,\n",
              "                       warm_start=False)"
            ]
          },
          "execution_count": null,
          "metadata": {},
          "output_type": "execute_result"
        }
      ],
      "source": [
        "%time model.fit(X, y)"
      ]
    },
    {
      "cell_type": "markdown",
      "metadata": {
        "id": "nDmgjpp4CVG_"
      },
      "source": [
        "### Evaluate the predictions"
      ]
    },
    {
      "cell_type": "markdown",
      "metadata": {
        "id": "tLPZLXr9CVHA"
      },
      "source": [
        "The final step is to generate predictions and evaluate them against some performance metric, e.g. accuracy:"
      ]
    },
    {
      "cell_type": "code",
      "execution_count": null,
      "metadata": {
        "id": "5LI95vhyCVHB",
        "outputId": "c4b6ab03-6734-477b-8be4-5a91301c954a"
      },
      "outputs": [
        {
          "data": {
            "text/plain": [
              "0.98524"
            ]
          },
          "execution_count": null,
          "metadata": {},
          "output_type": "execute_result"
        }
      ],
      "source": [
        "preds = model.predict(X)\n",
        "accuracy_score(y, preds)"
      ]
    },
    {
      "cell_type": "markdown",
      "metadata": {
        "id": "rXbKhNmCCVHC"
      },
      "source": [
        "<div style=\"text-align: center\">\n",
        "<img src='https://github.com/lewtun/hepml/blob/master/notebooks/images/wat.jpeg?raw=1'>\n",
        "</div>\n",
        "\n",
        "Wait, wat!? How can the Random Forest model have almost no error at all? Is this a perfect model? Of course it is much more likely that the model has badly overfit the data. To be sure we need to use part of the training set for training and part for model validation."
      ]
    },
    {
      "cell_type": "markdown",
      "metadata": {
        "id": "h5i6BgfpCVHD"
      },
      "source": [
        "> Warning: Evaluating our model's predictions on the same data it was trained on is almost always a recipe for disaster! Why? The problem is that the model may memorise the structure of the data it sees and fail to provide good predictions when shown new data."
      ]
    },
    {
      "cell_type": "markdown",
      "metadata": {
        "id": "pmMSy0LqCVHD"
      },
      "source": [
        "## Better evaluation using training and validation splits"
      ]
    },
    {
      "cell_type": "markdown",
      "metadata": {
        "id": "WbAyW3bmCVHE"
      },
      "source": [
        "One way to measure how well a model will generalise to new cases is to split your data into two sets: the _**training set**_ and the _**validation set**_. As these names imply, you train your model using the training set and validate it using the validation set. The error rate on new cases is called the _**generalisation error**_ and by evaluating your model on the validation set, you get an estimation of this error.\n",
        "\n",
        "Creating a validation set is theoretically quite simple: just pick some instances randomly and set them aside (we set the random number generator's seed `random_state` so that is always generates the same shuffled indices):"
      ]
    },
    {
      "cell_type": "code",
      "execution_count": null,
      "metadata": {
        "id": "9pRKfTISCVHE",
        "outputId": "d27be77b-4672-4598-f2e4-246bf3de285f"
      },
      "outputs": [
        {
          "name": "stdout",
          "output_type": "stream",
          "text": [
            "Dataset split: 80000 train rows + 20000 valid rows\n"
          ]
        }
      ],
      "source": [
        "X_train, X_valid, y_train, y_valid = train_test_split(X, y, test_size=0.2, random_state=42)\n",
        "\n",
        "print(f\"Dataset split: {len(X_train)} train rows + {len(X_valid)} valid rows\")"
      ]
    },
    {
      "cell_type": "markdown",
      "metadata": {
        "id": "ttw42haKCVHF"
      },
      "source": [
        "## Baseline model"
      ]
    },
    {
      "cell_type": "markdown",
      "metadata": {
        "id": "mYuRca0bCVHF"
      },
      "source": [
        "With these two datasets, we first fit on the training set and evaluate the prediction on the validation one. To simplify the evaluation of our models, let's write a simple function to keep track of the scores:"
      ]
    },
    {
      "cell_type": "code",
      "execution_count": null,
      "metadata": {
        "id": "UplGM_uCCVHG"
      },
      "outputs": [],
      "source": [
        "def print_scores(fitted_model):\n",
        "    res = {\n",
        "        \"Accuracy on train:\": accuracy_score(fitted_model.predict(X_train), y_train),\n",
        "        \"ROC AUC on train:\": roc_auc_score(\n",
        "            y_train, fitted_model.predict_proba(X_train)[:, 1]\n",
        "        ),\n",
        "        \"Accuracy on valid:\": accuracy_score(fitted_model.predict(X_valid), y_valid),\n",
        "        \"ROC AUC on valid:\": roc_auc_score(\n",
        "            y_valid, fitted_model.predict_proba(X_valid)[:, 1]\n",
        "        ),\n",
        "    }\n",
        "    if hasattr(fitted_model, \"oob_score_\"):\n",
        "        res[\"OOB accuracy:\"] = fitted_model.oob_score_\n",
        "\n",
        "    for k, v in res.items():\n",
        "        print(k, round(v, 3))"
      ]
    },
    {
      "cell_type": "code",
      "execution_count": null,
      "metadata": {
        "id": "ndJZH2zuCVHH",
        "outputId": "84c38d94-f63a-4c94-bc2e-19c8a1cd083e"
      },
      "outputs": [
        {
          "data": {
            "text/plain": [
              "RandomForestClassifier(bootstrap=True, ccp_alpha=0.0, class_weight=None,\n",
              "                       criterion='gini', max_depth=None, max_features='auto',\n",
              "                       max_leaf_nodes=None, max_samples=None,\n",
              "                       min_impurity_decrease=0.0, min_impurity_split=None,\n",
              "                       min_samples_leaf=1, min_samples_split=2,\n",
              "                       min_weight_fraction_leaf=0.0, n_estimators=10, n_jobs=-1,\n",
              "                       oob_score=False, random_state=42, verbose=0,\n",
              "                       warm_start=False)"
            ]
          },
          "execution_count": null,
          "metadata": {},
          "output_type": "execute_result"
        }
      ],
      "source": [
        "model = RandomForestClassifier(n_estimators=10, n_jobs=-1, random_state=42)\n",
        "model.fit(X_train, y_train)"
      ]
    },
    {
      "cell_type": "code",
      "execution_count": null,
      "metadata": {
        "id": "gEL1BItMCVHH",
        "outputId": "cd32bf5d-5a52-41d3-ba1a-cca835d1675c"
      },
      "outputs": [
        {
          "name": "stdout",
          "output_type": "stream",
          "text": [
            "Accuracy on train: 0.985\n",
            "ROC AUC on train: 0.999\n",
            "Accuracy on valid: 0.782\n",
            "ROC AUC on valid: 0.84\n"
          ]
        }
      ],
      "source": [
        "print_scores(model)"
      ]
    },
    {
      "cell_type": "markdown",
      "metadata": {
        "id": "e6vS9dPCCVHI"
      },
      "source": [
        "## ROC curves and AUC\n",
        "Note that in addition to accuracy, we also show a second value, the _**Area Under the ROC Curve**_ (AUC). The AUC is a good summary statistic of the predictiveness of a binary classifier. It varies from zero to one, and a value of 0.5 corresponds to randomness (the classifier cannot distinguish at all between \"signal\" and \"background\"), while a value of 1.0 means that it is perfect.\n",
        "\n",
        "The \"ROC\" refers to the Receiver Operating Characteristic curve which plots the _true positive rate_ \n",
        "\n",
        "$$ \\mathrm{TPR} = \\frac{\\mathrm{TP}}{\\mathrm{TP} + \\mathrm{FP}} \\,, \\qquad \\mathrm{TP\\, (FP)}  = \\mathrm{number\\, of\\, true\\, (false) \\,positives}\\,,$$\n",
        "\n",
        "against the _false positive rate_ FPR, where the FPR is the ratio of negative instances that are incorrectly classified as positive. In general there is a tradeoff between these two quantities: the higher the TPR, the more false positives (FPR) the classifier produces."
      ]
    },
    {
      "cell_type": "markdown",
      "metadata": {
        "id": "8hHcHJ4nCVHJ"
      },
      "source": [
        "For our analysis, these ROC curves effectively plot signal efficiency versus background rejection at various thresholds of some discriminating variable. Here that variable will be the output signal probability of our Random Forest model. Let's write a simple function to visualise these outputs:"
      ]
    },
    {
      "cell_type": "code",
      "execution_count": null,
      "metadata": {
        "id": "qb9jaOyDCVHJ"
      },
      "outputs": [],
      "source": [
        "def plot_signal_vs_background(fitted_model):\n",
        "    valid_probs = model.predict_proba(X_valid)\n",
        "    df = pd.DataFrame({\"probability\": valid_probs[:, 1]})\n",
        "    df[\"signal\"] = y_valid.values\n",
        "    sns.distplot(\n",
        "        df.query(\"signal == 1\")[\"probability\"],\n",
        "        kde=False,\n",
        "        bins=np.linspace(0, 1, 10),\n",
        "        label=\"Signal\",\n",
        "    )\n",
        "    sns.distplot(\n",
        "        df.query(\"signal == 0\")[\"probability\"],\n",
        "        kde=False,\n",
        "        bins=np.linspace(0, 1, 10),\n",
        "        label=\"Background\",\n",
        "    )\n",
        "    plt.legend(bbox_to_anchor=(1.01, 1), loc=\"upper left\")\n",
        "    plt.show()"
      ]
    },
    {
      "cell_type": "code",
      "execution_count": null,
      "metadata": {
        "id": "gIlYjZMCCVHK",
        "outputId": "844fe787-d44f-401a-f6df-926c1201fcf8"
      },
      "outputs": [
        {
          "data": {
            "image/png": "[encoded data removed]",
            "text/plain": [
              "<Figure size 432x288 with 1 Axes>"
            ]
          },
          "metadata": {},
          "output_type": "display_data"
        }
      ],
      "source": [
        "plot_signal_vs_background(model)"
      ]
    },
    {
      "cell_type": "markdown",
      "metadata": {
        "id": "qgp-yKbnCVHK"
      },
      "source": [
        "We see that although the model assigns high (low) probabilities to the signal (background) events, a fair amount of the signal events overlap with background ones. Another way to see this is to look at the $p_T$ distributions of two highest $p_T$ leptons:"
      ]
    },
    {
      "cell_type": "code",
      "execution_count": null,
      "metadata": {
        "id": "pkKGPDKpCVHO",
        "outputId": "dca301ec-40aa-45aa-f5a3-a032dcfe8747"
      },
      "outputs": [
        {
          "data": {
            "image/png": "[encoded data removed]",
            "text/plain": [
              "<Figure size 864x432 with 2 Axes>"
            ]
          },
          "metadata": {},
          "output_type": "display_data"
        }
      ],
      "source": [
        "# use plt.subplots() to create multiple plots\n",
        "fig, (ax0, ax1) = plt.subplots(nrows=1, ncols=2, sharey=True, figsize=(12, 6))\n",
        "# put one plot on axis ax0\n",
        "sns.scatterplot(\n",
        "    x=\"lepton 1 pT\",\n",
        "    y=\"lepton 2 pT\",\n",
        "    data=susy.query(\"signal == 0\"),\n",
        "    ax=ax0,\n",
        "    color=\"darkorange\",\n",
        "    label=\"Background\",\n",
        ")\n",
        "# put second plot on axis ax1\n",
        "sns.scatterplot(\n",
        "    x=\"lepton 1 pT\",\n",
        "    y=\"lepton 2 pT\",\n",
        "    data=susy.query(\"signal == 1\"),\n",
        "    ax=ax1,\n",
        "    color=\"b\",\n",
        "    label=\"Signal\",\n",
        ")\n",
        "# tight_layout() fixes spacing between plots\n",
        "fig.tight_layout()"
      ]
    },
    {
      "cell_type": "markdown",
      "metadata": {
        "id": "JyOThx13CVHP"
      },
      "source": [
        "These plots show that instead of fixing a single threshold to evaluate our classifier, we should scan across various thresholds as in the ROC curve. In scikit-learn we can visualise the ROC curve of an estimator using the plotting API:"
      ]
    },
    {
      "cell_type": "code",
      "execution_count": null,
      "metadata": {
        "id": "jyCxU9hXCVHP",
        "outputId": "ae80c051-7e1a-4d7f-ed65-dd3afb7655cb"
      },
      "outputs": [
        {
          "data": {
            "image/png": "[encoded data removed]",
            "text/plain": [
              "<Figure size 432x288 with 1 Axes>"
            ]
          },
          "metadata": {},
          "output_type": "display_data"
        }
      ],
      "source": [
        "plot_roc_curve(model, X_valid, y_valid)\n",
        "plt.show()"
      ]
    },
    {
      "cell_type": "markdown",
      "metadata": {
        "id": "TWLOTBqDCVHQ"
      },
      "source": [
        "Looking at the scores in the original SUSY article, we see that our super simple model does not perform too badly - with an AUC of around 0.84 it falls short of the benchmark models by around 3-5% with the \"complete\" features. In the coming lessons we will explore techniques to improve upon this!"
      ]
    },
    {
      "cell_type": "markdown",
      "metadata": {
        "id": "QYzjcuyPCVHQ"
      },
      "source": [
        "<div style=\"text-align: center\">\n",
        "<img src='https://github.com/lewtun/hepml/blob/master/notebooks/images/susy_benchmark.png?raw=1'>\n",
        "   <p style=\"text-align: center;\"> <b>Figure reference:</b> https://www.nature.com/articles/ncomms5308 </p>\n",
        "</div>"
      ]
    },
    {
      "cell_type": "markdown",
      "metadata": {
        "id": "QwoMvi19CVHQ"
      },
      "source": [
        "## Exercises\n",
        "\n",
        "* Use the techniques in this lesson to build Random Forest models for the \"low-level\" and \"high-level\" set of features. How do their ROC AUC scores compare against the table above?\n",
        "* Try coming up with some \"rectangular\" requirements (e.g. applying $p_T$ cuts) and see how the ROC curve for those requirements compares to using a Random Forest. See pp. 33-34 of the [review](https://arxiv.org/pdf/1803.08823.pdf)."
      ]
    },
    {
      "cell_type": "code",
      "execution_count": null,
      "metadata": {
        "id": "vQCHOlRKCVHQ"
      },
      "outputs": [],
      "source": []
    }
  ],
  "metadata": {
    "kernelspec": {
      "display_name": "Python 3",
      "language": "python",
      "name": "python3"
    },
    "colab": {
      "provenance": []
    }
  },
  "nbformat": 4,
  "nbformat_minor": 0
}